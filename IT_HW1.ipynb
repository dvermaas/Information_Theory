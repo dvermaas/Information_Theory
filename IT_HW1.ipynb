{
  "nbformat": 4,
  "nbformat_minor": 0,
  "metadata": {
    "kernelspec": {
      "display_name": "Python 3 (ipykernel)",
      "language": "python",
      "name": "python3"
    },
    "language_info": {
      "codemirror_mode": {
        "name": "ipython",
        "version": 3
      },
      "file_extension": ".py",
      "mimetype": "text/x-python",
      "name": "python",
      "nbconvert_exporter": "python",
      "pygments_lexer": "ipython3",
      "version": "3.9.4"
    },
    "colab": {
      "name": "IT_HW1.ipynb",
      "provenance": [],
      "collapsed_sections": []
    }
  },
  "cells": [
    {
      "cell_type": "code",
      "metadata": {
        "id": "rpwSy1Dy5EkU"
      },
      "source": [
        "import numpy as np\n",
        "import matplotlib.pyplot as plt\n",
        "import io, urllib.request\n",
        "import random"
      ],
      "execution_count": 1,
      "outputs": []
    },
    {
      "cell_type": "markdown",
      "metadata": {
        "id": "l8pvAa9h5EkX"
      },
      "source": [
        "This code downloads a picture (feel free to use your own):"
      ]
    },
    {
      "cell_type": "code",
      "metadata": {
        "id": "wn1JhJaE5EkY",
        "colab": {
          "base_uri": "https://localhost:8080/",
          "height": 269
        },
        "outputId": "7588e2ca-59ab-4f58-9466-cc02c921639c"
      },
      "source": [
        "URL = \"https://github.com/amsqi/iit21-homework/raw/main/material/donkey.png\"\n",
        "ORIGINAL = plt.imread(io.BytesIO(urllib.request.urlopen(URL).read()))\n",
        "\n",
        "# remove alpha channel\n",
        "if ORIGINAL.shape[2] == 4:\n",
        "    alpha = ORIGINAL[:, :, 3:]\n",
        "    ORIGINAL = ORIGINAL[:, :, :3] * alpha + (1 - alpha)\n",
        "\n",
        "# convert to black & white\n",
        "WHITE_THRESHOLD = 0.8\n",
        "ORIGINAL = np.where(ORIGINAL[:, :, :3].max(axis=2) > WHITE_THRESHOLD, 0, 1)\n",
        "\n",
        "# show the figure\n",
        "plt.imshow(ORIGINAL, cmap=plt.get_cmap(\"binary\"), interpolation=\"none\")\n",
        "plt.show()"
      ],
      "execution_count": 2,
      "outputs": [
        {
          "output_type": "display_data",
          "data": {
            "image/png": "[encoded data removed]",
            "text/plain": [
              "<Figure size 432x288 with 1 Axes>"
            ]
          },
          "metadata": {
            "needs_background": "light"
          }
        }
      ]
    },
    {
      "cell_type": "markdown",
      "metadata": {
        "id": "oqnXIeAO5EkZ"
      },
      "source": [
        "All inputs and outputs should be 2d arrays that contain only zeros and ones (corresponding to black&white images).\n",
        "For example:"
      ]
    },
    {
      "cell_type": "code",
      "metadata": {
        "id": "nYxsSmC55Eka",
        "colab": {
          "base_uri": "https://localhost:8080/"
        },
        "outputId": "f99db066-7575-4cbe-e9c0-116b38179978"
      },
      "source": [
        "ORIGINAL.shape"
      ],
      "execution_count": 3,
      "outputs": [
        {
          "output_type": "execute_result",
          "data": {
            "text/plain": [
              "(668, 791)"
            ]
          },
          "metadata": {},
          "execution_count": 3
        }
      ]
    },
    {
      "cell_type": "code",
      "metadata": {
        "id": "jZNnGFQ45Eka",
        "colab": {
          "base_uri": "https://localhost:8080/"
        },
        "outputId": "5a6b6943-0230-4661-ae99-392330c9563b"
      },
      "source": [
        "set(ORIGINAL.flatten())"
      ],
      "execution_count": 4,
      "outputs": [
        {
          "output_type": "execute_result",
          "data": {
            "text/plain": [
              "{0, 1}"
            ]
          },
          "metadata": {},
          "execution_count": 4
        }
      ]
    },
    {
      "cell_type": "markdown",
      "metadata": {
        "id": "7j9QN2Ef5Ekb"
      },
      "source": [
        "# The Noise Channel\n",
        "\n",
        "The following function should model a noise channel with probability of bit flip $f$.\n",
        "<span style=\"background-color: yellow\">Right now it does nothing -- can you fix this?</span>\n",
        "\n",
        "*Hint: Never modify an input parameter. If you really need to, make a copy (`output = input.copy()`) before you start modifying.*"
      ]
    },
    {
      "cell_type": "code",
      "metadata": {
        "id": "xNTUE_CV5Ekb"
      },
      "source": [
        "# Rolling a d-100 (using random package), and flipping bit if roll < dice\n",
        "def noise_channel(f, input):\n",
        "    output = np.array(input)\n",
        "    for y in range(len(output)):\n",
        "      for x in range(len(output[0])):\n",
        "        if random.randrange(0,100)/100 < f:\n",
        "          if output[y][x] == 1:\n",
        "            output[y][x] = 0\n",
        "          else:\n",
        "            output[y][x] = 1\n",
        "    return output"
      ],
      "execution_count": 5,
      "outputs": []
    },
    {
      "cell_type": "markdown",
      "metadata": {
        "id": "57AwXdgr5Ekc"
      },
      "source": [
        "You can test your implementation with the following code:"
      ]
    },
    {
      "cell_type": "code",
      "metadata": {
        "id": "1QZT_zi65Ekd",
        "colab": {
          "base_uri": "https://localhost:8080/"
        },
        "outputId": "b3778bcb-3bad-4535-eebc-200eacb12747"
      },
      "source": [
        "NOISE_RATE = .1\n",
        "output = noise_channel(NOISE_RATE, ORIGINAL)\n",
        "\n",
        "f_est = np.mean(output != ORIGINAL)\n",
        "print(f\"{NOISE_RATE:3.0%} bit flips expected\")\n",
        "print(f\"{f_est:3.0%} bit flips detected\")"
      ],
      "execution_count": 6,
      "outputs": [
        {
          "output_type": "stream",
          "name": "stdout",
          "text": [
            "10% bit flips expected\n",
            "10% bit flips detected\n"
          ]
        }
      ]
    },
    {
      "cell_type": "markdown",
      "metadata": {
        "id": "WtCeSrnJ5Ekd"
      },
      "source": [
        "# The Repetition Code\n",
        "\n",
        "The following two functions should implement the repetition code $R_3$.\n",
        "<span style=\"background-color: yellow\">Right now these functions do nothing at all either -- can you fix this?</span>"
      ]
    },
    {
      "cell_type": "code",
      "metadata": {
        "id": "eQcr7oKiy3Ww"
      },
      "source": [
        "# Repeat each bit N times, and then make the result a 2d matrix again.\n",
        "def encode(source, N=3):\n",
        "    return np.repeat(source, N).reshape((source.shape[0], source.shape[1]*N))\n",
        "\n",
        "# for every N bits take the majority vote.\n",
        "def decode(received, N=3):\n",
        "    return np.array([[1 if sum(received[y][x:x+N]) > N/2 else 0 for x in \n",
        "                      range(0, len(received[0]), N)] for y in range(len(received))])"
      ],
      "execution_count": 7,
      "outputs": []
    },
    {
      "cell_type": "markdown",
      "metadata": {
        "id": "QMLfBylSDQjV"
      },
      "source": [
        "__Disclaimer:__ We are taking the majority vote because $NOISE\\_RATE < 0.5$. If the $NOISE\\_RATE > 0.5$, the minority vote should be taken."
      ]
    },
    {
      "cell_type": "markdown",
      "metadata": {
        "id": "3hNM8-qX5Eke"
      },
      "source": [
        "You can test your solution with the following code:"
      ]
    },
    {
      "cell_type": "code",
      "metadata": {
        "id": "jThNb9go5Eke",
        "colab": {
          "base_uri": "https://localhost:8080/",
          "height": 213
        },
        "outputId": "6264530b-8d4c-4778-e377-0cb9b9c35e85"
      },
      "source": [
        "# simulate channel\n",
        "encoded = encode(ORIGINAL)\n",
        "\n",
        "received = noise_channel(NOISE_RATE, encoded)\n",
        "assert received.shape == encoded.shape, \"Noise channel should not change image size.\"\n",
        "\n",
        "decoded = decode(received)\n",
        "assert (\n",
        "    decoded.shape == ORIGINAL.shape\n",
        "), \"Decoder should produce image of same size as the original.\"\n",
        "\n",
        "\n",
        "# compute statistics\n",
        "f_raw = np.mean(received != encoded)\n",
        "f_dec = np.mean(decoded != ORIGINAL)\n",
        "\n",
        "# plot pictures\n",
        "fig, row = plt.subplots(1, 4, figsize=(12, 12))\n",
        "\n",
        "row[0].set_title(\"original\")\n",
        "row[0].imshow(ORIGINAL, cmap=plt.get_cmap(\"binary\"), interpolation=\"none\")\n",
        "\n",
        "row[1].set_title(\"encoded\")\n",
        "row[1].imshow(encoded, cmap=plt.get_cmap(\"binary\"), interpolation=\"none\")\n",
        "\n",
        "row[2].set_title(f\"received ({f_raw:.0%} error)\")\n",
        "row[2].imshow(received, cmap=plt.get_cmap(\"binary\"), interpolation=\"none\")\n",
        "\n",
        "row[3].set_title(f\"decoded ({f_dec:.0%} error)\")\n",
        "row[3].imshow(decoded, cmap=plt.get_cmap(\"binary\"), interpolation=\"none\")\n",
        "\n",
        "fig.tight_layout()"
      ],
      "execution_count": 8,
      "outputs": [
        {
          "output_type": "display_data",
          "data": {
            "image/png": "[encoded data removed]",
            "text/plain": [
              "<Figure size 864x864 with 4 Axes>"
            ]
          },
          "metadata": {
            "needs_background": "light"
          }
        }
      ]
    },
    {
      "cell_type": "markdown",
      "metadata": {
        "id": "yDt8fgQV5Ekf"
      },
      "source": [
        "Does your code look similar to Figure 1.11 in [MacKay's book](http://www.inference.org.uk/itprnn/book.pdf)?"
      ]
    },
    {
      "cell_type": "markdown",
      "metadata": {
        "id": "djQ-ESfKrMMV"
      },
      "source": [
        "__answer:__ Yes the image looks intact, with a tiny percentage of the bits flipped, which is most notable on the white background, which has black dots on it after decoding. Similarly to Figure 1.11 (Both pictures also have the same error percentage, so they have the same amount of noise in them)."
      ]
    },
    {
      "cell_type": "markdown",
      "metadata": {
        "id": "JdzPZADo5Ekf"
      },
      "source": [
        "**Bonus challenges (completely optional):**\n",
        "1. Change your code to implement the repetition code $R_5$.\n",
        "2. Change your code to implement the repetition code $R_k$ for general $k$. How does the error of the decoded image change as a function of $f$ and $k$?"
      ]
    },
    {
      "cell_type": "markdown",
      "metadata": {
        "id": "5Z6VkDjPKtmW"
      },
      "source": [
        "__answer:__ The error is equal to the probability that more then half of the bits are flipped. So for $R_3$, this is $3f^2$\n",
        "\n",
        "The general formula for error is: $Nf^{[\\frac{N}{2} + \\frac{1}{2}]}$, here $[\\frac{N}{2} + \\frac{1}{2}]$ means dividing N by 2 and then rounding to nearest integer."
      ]
    },
    {
      "cell_type": "code",
      "metadata": {
        "colab": {
          "base_uri": "https://localhost:8080/",
          "height": 230
        },
        "id": "s3Q-ow0EKGg4",
        "outputId": "5f767ae2-d91e-4392-abf0-ae9456d4c0b0"
      },
      "source": [
        "k = int(input('please enter k (int > 0):'))\n",
        "# simulate channel\n",
        "encoded = encode(ORIGINAL, k)\n",
        "\n",
        "received = noise_channel(NOISE_RATE, encoded)\n",
        "assert received.shape == encoded.shape, \"Noise channel should not change image size.\"\n",
        "\n",
        "decoded = decode(received, k)\n",
        "assert (\n",
        "    decoded.shape == ORIGINAL.shape\n",
        "), \"Decoder should produce image of same size as the original.\"\n",
        "\n",
        "\n",
        "# compute statistics\n",
        "f_raw = np.mean(received != encoded)\n",
        "f_dec = np.mean(decoded != ORIGINAL)\n",
        "\n",
        "# plot pictures\n",
        "fig, row = plt.subplots(1, 4, figsize=(12, 12))\n",
        "\n",
        "row[0].set_title(\"original\")\n",
        "row[0].imshow(ORIGINAL, cmap=plt.get_cmap(\"binary\"), interpolation=\"none\")\n",
        "\n",
        "row[1].set_title(\"encoded\")\n",
        "row[1].imshow(encoded, cmap=plt.get_cmap(\"binary\"), interpolation=\"none\")\n",
        "\n",
        "row[2].set_title(f\"received ({f_raw:.0%} error)\")\n",
        "row[2].imshow(received, cmap=plt.get_cmap(\"binary\"), interpolation=\"none\")\n",
        "\n",
        "row[3].set_title(f\"decoded ({f_dec:.0%} error)\")\n",
        "row[3].imshow(decoded, cmap=plt.get_cmap(\"binary\"), interpolation=\"none\")\n",
        "\n",
        "fig.tight_layout()"
      ],
      "execution_count": 9,
      "outputs": [
        {
          "name": "stdout",
          "output_type": "stream",
          "text": [
            "please enter k (int > 0):11\n"
          ]
        },
        {
          "output_type": "display_data",
          "data": {
            "image/png": "[encoded data removed]",
            "text/plain": [
              "<Figure size 864x864 with 4 Axes>"
            ]
          },
          "metadata": {
            "needs_background": "light"
          }
        }
      ]
    }
  ]
}