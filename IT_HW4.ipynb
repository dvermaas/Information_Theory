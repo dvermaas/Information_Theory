{
  "nbformat": 4,
  "nbformat_minor": 0,
  "metadata": {
    "kernelspec": {
      "display_name": "Python 3 (ipykernel)",
      "language": "python",
      "name": "python3"
    },
    "language_info": {
      "codemirror_mode": {
        "name": "ipython",
        "version": 3
      },
      "file_extension": ".py",
      "mimetype": "text/x-python",
      "name": "python",
      "nbconvert_exporter": "python",
      "pygments_lexer": "ipython3",
      "version": "3.10.0"
    },
    "colab": {
      "name": "IT_HW4.ipynb",
      "provenance": [],
      "collapsed_sections": []
    }
  },
  "cells": [
    {
      "cell_type": "markdown",
      "metadata": {
        "id": "yXQXnc0SnDCD"
      },
      "source": [
        "__Name:__ Daniel Vermaas<br>__UvA_ID:__ 12208698"
      ]
    },
    {
      "cell_type": "code",
      "metadata": {
        "id": "aGImiR4ymZ43"
      },
      "source": [
        "import requests\n",
        "from collections import Counter, defaultdict\n",
        "import numpy as np\n",
        "import math"
      ],
      "execution_count": 4,
      "outputs": []
    },
    {
      "cell_type": "markdown",
      "metadata": {
        "id": "wGxMLr6KmZ46"
      },
      "source": [
        "In this homework, we will compress Hamlet using arithmetic coding."
      ]
    },
    {
      "cell_type": "code",
      "metadata": {
        "id": "Cku53urgmZ47",
        "colab": {
          "base_uri": "https://localhost:8080/"
        },
        "outputId": "eec35336-e7a9-4814-d30d-294a8d35a47d"
      },
      "source": [
        "HAMLET = requests.get(\n",
        "    \"https://github.com/amsqi/iit21-homework/raw/main/material/hamlet.txt\"\n",
        ").content.decode(\"ascii\", errors=\"ignore\")\n",
        "len(HAMLET)"
      ],
      "execution_count": 5,
      "outputs": [
        {
          "output_type": "execute_result",
          "data": {
            "text/plain": [
              "179096"
            ]
          },
          "metadata": {},
          "execution_count": 5
        }
      ]
    },
    {
      "cell_type": "markdown",
      "metadata": {
        "id": "a903bDNgmZ48"
      },
      "source": [
        "Like last week, we use the following conventions:\n",
        "- **probability distributions** are represented by dictionaries that map symbols to probabilities, i.e., the probability $P(x)$ of outcome $x$ corresponds to the dictionary entry `P[x]`\n",
        "- **bitstrings** are represented by Python lists or tuples that contain 0s and 1s (for simplicity)"
      ]
    },
    {
      "cell_type": "markdown",
      "metadata": {
        "id": "I_EbYJq-mZ49"
      },
      "source": [
        "# 1. Language Model"
      ]
    },
    {
      "cell_type": "markdown",
      "metadata": {
        "id": "LK4ah6cMmZ49"
      },
      "source": [
        "Last week, you implemented a function `empirical` that computed the empirical probability distribution of letters in a given string. Your solution probably looked similar to the following function:"
      ]
    },
    {
      "cell_type": "code",
      "metadata": {
        "id": "1gGvvlOgmZ49",
        "colab": {
          "base_uri": "https://localhost:8080/"
        },
        "outputId": "f4dc5973-d053-4475-cf02-14d839868e0f"
      },
      "source": [
        "def empirical(s):\n",
        "    c = Counter(s)\n",
        "    N = len(s)\n",
        "    return {x: n / N for x, n in c.items()}\n",
        "\n",
        "\n",
        "empirical(\"Hello\")"
      ],
      "execution_count": 6,
      "outputs": [
        {
          "output_type": "execute_result",
          "data": {
            "text/plain": [
              "{'H': 0.2, 'e': 0.2, 'l': 0.4, 'o': 0.2}"
            ]
          },
          "metadata": {},
          "execution_count": 6
        }
      ]
    },
    {
      "cell_type": "markdown",
      "metadata": {
        "id": "Z5LKeWHJmZ4-"
      },
      "source": [
        "Compression is intimely connected with modeling the source that we want to compress. We know this very clearly from Shannon's theorem as well as from Huffman coding, which each relied on a probability distribution P modeling an IID data source. Sometimes this also happens implicitly, like in the LZ algorithm (where we can think of the phrases that are being assembled as a \"model\" of the data).\n",
        "\n",
        "Arithmetic coding also relies on an explicit probabilistic model of the data. This week, we will consider so-called **digram models** (also known as bigram models). A diagram model is given by a **conditional probability distributions** $P(y|x)$, which models the probability that the next letter is $y$ if the previous letter was $x$.\n",
        "We will represent conditional probability distributions by Python dictionaries that map symbols to probability distributions, so that the conditional probability $P(y|x)$ is corresponds to the dictionary entry `P[x][y]`. Here, we also allow `x` to be `None` and interpret `P[None][y]` as the probability distribution of the first letter of the string.\n",
        "\n",
        "We can  we can use the `empirical` function from above to construct a very simple digram model, where `P[x][y]` equals by the frequency of `y` in the given string, so does not depend on `x` at all. In fact, this should better be called a \"unigram\" model, so that is the name that we use for the function:"
      ]
    },
    {
      "cell_type": "code",
      "metadata": {
        "id": "kUGArS9WmZ4_",
        "colab": {
          "base_uri": "https://localhost:8080/"
        },
        "outputId": "f161cb41-8482-4dd1-ad1c-a1238cbdbbb8"
      },
      "source": [
        "def unigram(s):\n",
        "    # compute frequencies of single letter\n",
        "    Q = empirical(s)\n",
        "\n",
        "    # use as P[x] for all letters, including the first (x = None)\n",
        "    P = {}\n",
        "    P[None] = Q\n",
        "    for x in s:\n",
        "        P[x] = Q\n",
        "    return P\n",
        "\n",
        "\n",
        "unigram(\"Hello\")"
      ],
      "execution_count": 7,
      "outputs": [
        {
          "output_type": "execute_result",
          "data": {
            "text/plain": [
              "{'H': {'H': 0.2, 'e': 0.2, 'l': 0.4, 'o': 0.2},\n",
              " None: {'H': 0.2, 'e': 0.2, 'l': 0.4, 'o': 0.2},\n",
              " 'e': {'H': 0.2, 'e': 0.2, 'l': 0.4, 'o': 0.2},\n",
              " 'l': {'H': 0.2, 'e': 0.2, 'l': 0.4, 'o': 0.2},\n",
              " 'o': {'H': 0.2, 'e': 0.2, 'l': 0.4, 'o': 0.2}}"
            ]
          },
          "metadata": {},
          "execution_count": 7
        }
      ]
    },
    {
      "cell_type": "markdown",
      "metadata": {
        "id": "zd-AGq2EmZ4_"
      },
      "source": [
        "Clearly this model is silly, since it does not model any correlations between subsequent letters. **To do better, implement a function that computes the empirical conditional probability of subsequent letters in a given string.** That is, your function should compute\n",
        "$$P(y|x) = \\frac {N_{x,y}} {\\sum_{y'} N_{x,y'}},$$\n",
        "where $N_{x,y}$ denotes the number of times that `xy` appears as a substring of the given string.\n",
        "Please return the conditional distribution in the format described above, i.e., `P[x][y]` should correspond to $P(y|x)$.\n",
        "We already gave you a head start and took care of `P[None]` by setting it to \"deterministic\" probability distribution corresponding to the first letter of the string."
      ]
    },
    {
      "cell_type": "code",
      "metadata": {
        "id": "PUONOXwRmZ5A",
        "colab": {
          "base_uri": "https://localhost:8080/"
        },
        "outputId": "fe642a12-a26a-4e03-f022-9620483acefe"
      },
      "source": [
        "def digram(s):\n",
        "    P = {}\n",
        "\n",
        "    # the first letter is deterministic\n",
        "    P[None] = {s[0]: 1}\n",
        "\n",
        "    # TODO: can you implement the rest?\n",
        "    for i in range(1, len(s)):\n",
        "      if s[i-1] not in P:\n",
        "        P[s[i-1]] = \"\"\n",
        "      P[s[i-1]] += s[i]\n",
        "    return {key : value if key is None else empirical(value) for key, value in P.items()}\n",
        "\n",
        "digram(\"Abracadabra\")"
      ],
      "execution_count": 8,
      "outputs": [
        {
          "output_type": "execute_result",
          "data": {
            "text/plain": [
              "{'A': {'b': 1.0},\n",
              " None: {'A': 1},\n",
              " 'a': {'b': 0.3333333333333333,\n",
              "  'c': 0.3333333333333333,\n",
              "  'd': 0.3333333333333333},\n",
              " 'b': {'r': 1.0},\n",
              " 'c': {'a': 1.0},\n",
              " 'd': {'a': 1.0},\n",
              " 'r': {'a': 1.0}}"
            ]
          },
          "metadata": {},
          "execution_count": 8
        }
      ]
    },
    {
      "cell_type": "markdown",
      "metadata": {
        "id": "-hhQFHHYmZ5A"
      },
      "source": [
        "The following code tests whether your function works correctly:"
      ]
    },
    {
      "cell_type": "code",
      "metadata": {
        "id": "GeSNIyRemZ5A"
      },
      "source": [
        "P = digram(\"Abracadabra\")\n",
        "\n",
        "# the first letter is always A\n",
        "assert P[None] == {\"A\": 1.0}\n",
        "\n",
        "# after A always follows b\n",
        "assert P[\"A\"] == {\"b\": 1.0}\n",
        "\n",
        "# after b always comes r\n",
        "assert P[\"b\"] == {\"r\": 1.0}\n",
        "\n",
        "# after r, c, d always comes a\n",
        "assert P[\"r\"] == {\"a\": 1.0} and P[\"c\"] == {\"a\": 1.0} and P[\"d\"] == {\"a\": 1.0}\n",
        "\n",
        "# after r comes either of {b, c, d}, with equal probabilities\n",
        "assert P[\"a\"] == {\"b\": 1 / 3, \"c\": 1 / 3, \"d\": 1 / 3}"
      ],
      "execution_count": 9,
      "outputs": []
    },
    {
      "cell_type": "markdown",
      "metadata": {
        "id": "LjKp9FCqmZ5B"
      },
      "source": [
        "# 2. Helpers"
      ]
    },
    {
      "cell_type": "markdown",
      "metadata": {
        "id": "bCBajPyemZ5B"
      },
      "source": [
        "We need two ingredients to build the arithmetic coding algorithm.\n",
        "The first is the ability to compute binary expansions of numbers $0 \\leq f < 1$\n",
        "Let $f=0.b_1b_2b_3\\dots$ be the standard binary expansion as discussed in class.\n",
        "**The following function should return the first `l` bits in the binary expansion of `f`. Can you implement it?**"
      ]
    },
    {
      "cell_type": "code",
      "metadata": {
        "id": "N12FEJtlmZ5B",
        "colab": {
          "base_uri": "https://localhost:8080/"
        },
        "outputId": "d96e05d5-a21c-40c2-fe24-295dd2e0aa51"
      },
      "source": [
        "def binary_expansion(f, l):\n",
        "    # TODO: can you implement this?\n",
        "    out = []\n",
        "    for i in range(l):\n",
        "      f *= 2\n",
        "      out.append(int(f//1))\n",
        "      f %= 1\n",
        "    return out\n",
        "\n",
        "binary_expansion(1 / 3, 10)"
      ],
      "execution_count": 10,
      "outputs": [
        {
          "output_type": "execute_result",
          "data": {
            "text/plain": [
              "[0, 1, 0, 1, 0, 1, 0, 1, 0, 1]"
            ]
          },
          "metadata": {},
          "execution_count": 10
        }
      ]
    },
    {
      "cell_type": "markdown",
      "metadata": {
        "id": "PwTD1_v9mZ5B"
      },
      "source": [
        "Here are some tests to make sure that your code works fine:"
      ]
    },
    {
      "cell_type": "code",
      "metadata": {
        "id": "h7umK64DmZ5C"
      },
      "source": [
        "assert binary_expansion(1 / 3, 2) == [0, 1]\n",
        "assert binary_expansion(1 / 3, 10) == [0, 1, 0, 1, 0, 1, 0, 1, 0, 1]\n",
        "assert binary_expansion(5 / 6, 2) == [1, 1]\n",
        "assert binary_expansion(5 / 6, 10) == [1, 1, 0, 1, 0, 1, 0, 1, 0, 1]"
      ],
      "execution_count": 11,
      "outputs": []
    },
    {
      "cell_type": "markdown",
      "metadata": {
        "id": "w4WTr3QqmZ5C"
      },
      "source": [
        "The second ingredient that we will need is the ability to compute lower and upper cumulative probabilities.\n",
        "We have implemented the first for you:"
      ]
    },
    {
      "cell_type": "code",
      "metadata": {
        "id": "ooWJUQ57mZ5C"
      },
      "source": [
        "def lower_cumulative(P):\n",
        "    symbols = sorted(P)\n",
        "    Q = {x: sum(P[y] for y in symbols[:k]) for k, x in enumerate(symbols)}\n",
        "    return Q\n",
        "\n",
        "\n",
        "P = {\"A\": 2 / 3, \"B\": 1 / 6, \"C\": 1 / 6}\n",
        "assert lower_cumulative(P) == {\"A\": 0, \"B\": 2 / 3, \"C\": 2 / 3 + 1 / 6}"
      ],
      "execution_count": 12,
      "outputs": []
    },
    {
      "cell_type": "markdown",
      "metadata": {
        "id": "m4FsOrC4mZ5D"
      },
      "source": [
        "**Can you implement the following function to compute upper cumulative probabilities?**"
      ]
    },
    {
      "cell_type": "code",
      "metadata": {
        "id": "L62GCUjFmZ5D",
        "colab": {
          "base_uri": "https://localhost:8080/"
        },
        "outputId": "8fe8a2d4-1e3f-4abe-c9f5-73df333b995a"
      },
      "source": [
        "def upper_cumulative(P):\n",
        "    # TODO: can you implement this?\n",
        "    symbols = sorted(P)\n",
        "    return {x: sum(P[y] for y in symbols[:k+1]) for k, x in enumerate(symbols)}\n",
        "\n",
        "upper_cumulative({\"A\": 2 / 3, \"B\": 1 / 6, \"C\": 1 / 6})"
      ],
      "execution_count": 13,
      "outputs": [
        {
          "output_type": "execute_result",
          "data": {
            "text/plain": [
              "{'A': 0.6666666666666666, 'B': 0.8333333333333333, 'C': 0.9999999999999999}"
            ]
          },
          "metadata": {},
          "execution_count": 13
        }
      ]
    },
    {
      "cell_type": "markdown",
      "metadata": {
        "id": "fLEFdxSvmZ5D"
      },
      "source": [
        "Here is a test to make sure everything is in good order:"
      ]
    },
    {
      "cell_type": "code",
      "metadata": {
        "id": "0sXxXogUmZ5D"
      },
      "source": [
        "P = {\"A\": 2 / 3, \"B\": 1 / 6, \"C\": 1 / 6}\n",
        "assert upper_cumulative(P) == {\n",
        "    \"A\": 2 / 3,\n",
        "    \"B\": 2 / 3 + 1 / 6,\n",
        "    \"C\": 2 / 3 + 1 / 6 + 1 / 6,\n",
        "}"
      ],
      "execution_count": 14,
      "outputs": []
    },
    {
      "cell_type": "markdown",
      "metadata": {
        "id": "hYI84MetmZ5D"
      },
      "source": [
        "# 3. Arithmetic Coding"
      ]
    },
    {
      "cell_type": "markdown",
      "metadata": {
        "id": "mhU6AHwRmZ5E"
      },
      "source": [
        "Now it's time to assemble all ingredients.\n",
        "**Your final task is to implement the arithmetic coding algorithm as discussed in class.** Your function should take as input a string of symbols (`s`) and a conditional probability distribution (`P`) corresponding the digram model, and it should return as output a bitstring."
      ]
    },
    {
      "cell_type": "code",
      "metadata": {
        "colab": {
          "base_uri": "https://localhost:8080/"
        },
        "id": "5VFAktV6egbs",
        "outputId": "7c41dc74-c949-4016-8b12-84d7b413acac"
      },
      "source": [
        "def arithmetic_encode(s, P):\n",
        "    # TODO: can you implement this\n",
        "    q = 0\n",
        "    r = p = 1\n",
        "    output = []\n",
        "    prev_letter = None\n",
        "    for letter in s:\n",
        "      # step 1\n",
        "      r = q + p * upper_cumulative(P[prev_letter])[letter]\n",
        "      q = q + p * lower_cumulative(P[prev_letter])[letter]\n",
        "      #print('step 1 (lower, upper, q,r)', lower_cumulative(P[prev_letter])[letter], upper_cumulative(P[prev_letter])[letter], q, r)\n",
        "      prev_letter = letter\n",
        "      # step 2\n",
        "      while r <= 1/2 or q >= 1/2:\n",
        "        if r <= 1/2:\n",
        "          b = 0\n",
        "        else:\n",
        "          b = 1\n",
        "        output.append(b)\n",
        "        #print('s2out', b)\n",
        "        r = (2 * r) - b\n",
        "        q = (2 * q) - b\n",
        "      #print('step 2 (q,r)', q, r)\n",
        "      # step 3\n",
        "      p = r - q\n",
        "      #print('step 3 (p)', p)\n",
        "    return output + binary_expansion((q+r)/2, math.ceil(np.log2(2/p)))\n",
        "      \n",
        "arithmetic_encode(\"ABA\", unigram(\"ABBB\"))"
      ],
      "execution_count": 15,
      "outputs": [
        {
          "output_type": "execute_result",
          "data": {
            "text/plain": [
              "[0, 0, 0, 1, 0, 1]"
            ]
          },
          "metadata": {},
          "execution_count": 15
        }
      ]
    },
    {
      "cell_type": "code",
      "metadata": {
        "colab": {
          "base_uri": "https://localhost:8080/"
        },
        "id": "KuLKrIejeMEa",
        "outputId": "433aeae1-5ba6-45f9-a40d-e843b8ba0ddf"
      },
      "source": [
        "TEXT = \"Hello\"\n",
        "print(arithmetic_encode(TEXT, digram(TEXT)))"
      ],
      "execution_count": 16,
      "outputs": [
        {
          "output_type": "stream",
          "name": "stdout",
          "text": [
            "[0, 1, 1]\n"
          ]
        }
      ]
    },
    {
      "cell_type": "markdown",
      "metadata": {
        "id": "CrhOeL2wmZ5E"
      },
      "source": [
        "Here are some tests of increasing difficulty:"
      ]
    },
    {
      "cell_type": "code",
      "metadata": {
        "id": "VGiopfuomZ5E"
      },
      "source": [
        "# this is the probability distribution discussed in class (P(A) = 2/3, P(B) = 1/3)\n",
        "P = unigram(\"AAB\")\n",
        "\n",
        "# for a single letter, arithmetic coding is the same as the Shannon-Fano-Elias code, so we can compare with the example discussed in class\n",
        "assert arithmetic_encode(\"A\", P) == [0, 1]\n",
        "assert arithmetic_encode(\"B\", P) == [1, 1, 0]\n",
        "\n",
        "# now compress a string of length 300 (note that 277/300 is already close to the entropy)\n",
        "assert len(arithmetic_encode(\"AAB\" * 100, P)) == 277"
      ],
      "execution_count": 17,
      "outputs": []
    },
    {
      "cell_type": "code",
      "metadata": {
        "id": "GRvKunZTmZ5E"
      },
      "source": [
        "TEXT = \"Hello\"\n",
        "assert arithmetic_encode(TEXT, unigram(TEXT)) == [0, 0, 0, 1, 0, 0, 0, 1, 0, 1, 1]\n",
        "assert arithmetic_encode(TEXT, digram(TEXT)) == [0, 1, 1]"
      ],
      "execution_count": 18,
      "outputs": []
    },
    {
      "cell_type": "markdown",
      "metadata": {
        "id": "_XvmtCpmmZ5E"
      },
      "source": [
        "Finally, let us see how well we can compress Hamlet using either the language model.\n",
        "For the unigram model, your code should compare similarly to last week and reach about 58%.\n",
        "For the digram model, arithmetic coding should do markedly better -- does this match your output?\n",
        "\n",
        "*Hint: If your code runs too slow, try to avoid re-computing the cumultative probabilities from scratch for every input letter!*"
      ]
    },
    {
      "cell_type": "code",
      "metadata": {
        "id": "Zuy_Q54BmZ5E",
        "colab": {
          "base_uri": "https://localhost:8080/"
        },
        "outputId": "47ea592f-e4f6-4aff-fb52-e9bbd9a36c2e"
      },
      "source": [
        "# 2m 59s runtime, not too bad.\n",
        "models = {\"unigram\": unigram, \"digram\": digram}\n",
        "\n",
        "for name, model in models.items():\n",
        "    compressed = arithmetic_encode(HAMLET, model(HAMLET))\n",
        "    compressed_bytes = len(compressed) / 8\n",
        "    R = compressed_bytes / len(HAMLET)\n",
        "    print(f\"Compression rate using {name} model: {R:2.0%}\")"
      ],
      "execution_count": 19,
      "outputs": [
        {
          "output_type": "stream",
          "name": "stdout",
          "text": [
            "Compression rate using unigram model: 58%\n",
            "Compression rate using digram model: 45%\n"
          ]
        }
      ]
    },
    {
      "cell_type": "markdown",
      "metadata": {
        "id": "ynsvvaehmZ5E"
      },
      "source": [
        "**Challenge problems (purely optional):**\n",
        "* Program a decompressor! The teaching assistants will explain to you how to do so in the tutorials...\n",
        "* Turn your code into a \"true\" streaming algorithm. That is, make sure that your algorithm still works if the input parameter is an iterable rather than a string of symbols.\n",
        "* Implement a trigraph model and see if it performs even better.\n",
        "* In fact, why don't you allow for language models that arbitrarily depend on preceding characters. It may be useful to introduce a `LanguageModel` base class with an `update(x)` function that is called upon reading a letter `x`, as well as functions `P(y)` and `Q(y)` that compute the lower and upper conditional cumulative probability of `y`.\n",
        "* For a true compressor, you would also need to store the probability distribution as part of the compressed data. An alternative is to use a language model that learns the language \"on the fly\". One way to learn the unigram distribution is *Laplace's rule*, which you discussed in the exercise class. Implement it!"
      ]
    },
    {
      "cell_type": "code",
      "metadata": {
        "id": "fTk7MqXYQhZj"
      },
      "source": [
        "def bitlist_to_float(bitlist):\n",
        "  out = 0\n",
        "  for i in range(len(bitlist)):\n",
        "    if bitlist[i] == 1:\n",
        "      out += 1/(2**(i+1))\n",
        "  return out"
      ],
      "execution_count": 20,
      "outputs": []
    },
    {
      "cell_type": "code",
      "metadata": {
        "colab": {
          "base_uri": "https://localhost:8080/"
        },
        "id": "akBbMwrTFl_x",
        "outputId": "c18ca2ee-44bc-47f1-827a-36a5789ccdd0"
      },
      "source": [
        "def arithmetic_decode(s, P, N):\n",
        "  b = bitlist_to_float(s)\n",
        "  q = 0\n",
        "  p = 1\n",
        "  x = \"\"\n",
        "  prev_letter = None\n",
        "  for i in range(N):\n",
        "    for letter in P[prev_letter]:\n",
        "      dq = q + p * lower_cumulative(P[prev_letter])[letter]\n",
        "      dr = q + p * upper_cumulative(P[prev_letter])[letter]\n",
        "      if dq <= b and b < dr:\n",
        "        #print('t1', dq, dr, lower_cumulative(P[prev_letter])[letter], upper_cumulative(P[prev_letter])[letter])\n",
        "        x += letter\n",
        "        q = dq\n",
        "        p = dr - dq\n",
        "        #print('t2', p, dr, dq)\n",
        "        break\n",
        "    prev_letter = x[-1]\n",
        "  return x\n",
        "\n",
        "  \n",
        "print(arithmetic_decode(arithmetic_encode(\"A\", unigram(\"AAB\")), unigram(\"AAB\"), 1))\n",
        "print(arithmetic_decode(arithmetic_encode(\"B\", unigram(\"AAB\")), unigram(\"AAB\"), 1))\n",
        "print(arithmetic_decode(arithmetic_encode(\"ABA\", unigram(\"AAB\")), unigram(\"AAB\"), 3))\n",
        "print(arithmetic_decode(arithmetic_encode(\"ACCDA\", digram(\"ACBCCABCCDAC\")), digram(\"ACBCCABCCDAC\"), 5))"
      ],
      "execution_count": 21,
      "outputs": [
        {
          "output_type": "stream",
          "name": "stdout",
          "text": [
            "A\n",
            "B\n",
            "ABA\n",
            "ACCDA\n"
          ]
        }
      ]
    },
    {
      "cell_type": "markdown",
      "metadata": {
        "id": "OZTwbCAjQkPo"
      },
      "source": [
        "__1a:__<br>\n"
      ]
    },
    {
      "cell_type": "code",
      "metadata": {
        "colab": {
          "base_uri": "https://localhost:8080/"
        },
        "id": "87huTRw3Q5CQ",
        "outputId": "88c34ec9-8776-48a4-e5ba-b12ec4404d17"
      },
      "source": [
        "P = {None : {\"A\" : 5/6, \"H\" : 1/6}, \"A\" : {\"i\" : 2/3, \"y\" : 1/3}, \"H\" : {\"i\" : 1/5, \"y\" : 4/5}}\n",
        "print('encoding \\'Hi\\':', arithmetic_encode(\"Hi\", P))"
      ],
      "execution_count": 22,
      "outputs": [
        {
          "output_type": "stream",
          "name": "stdout",
          "text": [
            "encoding 'Hi': [1, 1, 0, 1, 1, 0]\n"
          ]
        }
      ]
    },
    {
      "cell_type": "markdown",
      "metadata": {
        "id": "1h7dqYb5nctJ"
      },
      "source": [
        "__1b:__<br>"
      ]
    },
    {
      "cell_type": "markdown",
      "metadata": {
        "id": "AboFPWR5RVmh"
      },
      "source": [
        "Lets see if we can find the '10' decoding by encoding all posibilites"
      ]
    },
    {
      "cell_type": "code",
      "metadata": {
        "colab": {
          "base_uri": "https://localhost:8080/"
        },
        "id": "3qx5mUYIRV74",
        "outputId": "74337190-4342-4038-873e-ea00513de6a4"
      },
      "source": [
        "print('encoding \\'Ai\\':', arithmetic_encode(\"Ai\", P))\n",
        "print('encoding \\'Ay\\':', arithmetic_encode(\"Ay\", P))\n",
        "print('encoding \\'Hy\\':', arithmetic_encode(\"Hy\", P))"
      ],
      "execution_count": 23,
      "outputs": [
        {
          "output_type": "stream",
          "name": "stdout",
          "text": [
            "encoding 'Ai': [0, 1]\n",
            "encoding 'Ay': [1, 0, 1]\n",
            "encoding 'Hy': [1, 1, 1, 0]\n"
          ]
        }
      ]
    },
    {
      "cell_type": "markdown",
      "metadata": {
        "id": "4ay2U0CTRrmp"
      },
      "source": [
        "We cannot seem to find '10' bitstring, lets use the decoder:"
      ]
    },
    {
      "cell_type": "code",
      "metadata": {
        "colab": {
          "base_uri": "https://localhost:8080/"
        },
        "id": "oCf92rYTnbuF",
        "outputId": "deea55ee-b95e-4ef0-ef9c-e92d751564aa"
      },
      "source": [
        "print('decoding \\'10\\':', arithmetic_decode([1, 0], P, 2))"
      ],
      "execution_count": 24,
      "outputs": [
        {
          "output_type": "stream",
          "name": "stdout",
          "text": [
            "decoding '10': Ai\n"
          ]
        }
      ]
    }
  ]
}